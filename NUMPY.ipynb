{
  "nbformat": 4,
  "nbformat_minor": 0,
  "metadata": {
    "colab": {
      "provenance": [],
      "authorship_tag": "ABX9TyMiXYbDsVuE8OKYU26+rff4",
      "include_colab_link": true
    },
    "kernelspec": {
      "name": "python3",
      "display_name": "Python 3"
    },
    "language_info": {
      "name": "python"
    }
  },
  "cells": [
    {
      "cell_type": "markdown",
      "metadata": {
        "id": "view-in-github",
        "colab_type": "text"
      },
      "source": [
        "<a href=\"https://colab.research.google.com/github/Tejas325-creator/Tejas325-creator/blob/main/NUMPY.ipynb\" target=\"_parent\"><img src=\"https://colab.research.google.com/assets/colab-badge.svg\" alt=\"Open In Colab\"/></a>"
      ]
    },
    {
      "cell_type": "markdown",
      "source": [
        "###NUMPY :\n",
        "\n",
        "python library , used for working with arrays ."
      ],
      "metadata": {
        "id": "x3XTjRWNqUnJ"
      }
    },
    {
      "cell_type": "code",
      "source": [
        "import numpy"
      ],
      "metadata": {
        "id": "9zfbCLokqia0"
      },
      "execution_count": 1,
      "outputs": []
    },
    {
      "cell_type": "markdown",
      "source": [
        "BASIC OPERATIONS :"
      ],
      "metadata": {
        "id": "yDGx4DGXq3RY"
      }
    },
    {
      "cell_type": "code",
      "source": [
        "import numpy as np\n",
        "#np --> allies"
      ],
      "metadata": {
        "id": "B4OBM2L-q5Pu"
      },
      "execution_count": 3,
      "outputs": []
    },
    {
      "cell_type": "markdown",
      "source": [
        "Creating array"
      ],
      "metadata": {
        "id": "rGcTNr92rw-l"
      }
    },
    {
      "cell_type": "code",
      "source": [
        "a = np.array([1,2,3])\n",
        "print(a)"
      ],
      "metadata": {
        "colab": {
          "base_uri": "https://localhost:8080/"
        },
        "id": "_np_-ckbrLRS",
        "outputId": "f24c1eef-5ad7-4a9e-cfd9-69e3a162453c"
      },
      "execution_count": 4,
      "outputs": [
        {
          "output_type": "stream",
          "name": "stdout",
          "text": [
            "[1 2 3]\n"
          ]
        }
      ]
    },
    {
      "cell_type": "code",
      "source": [
        "type(a)\n",
        "# nd --> n dimensional array"
      ],
      "metadata": {
        "colab": {
          "base_uri": "https://localhost:8080/"
        },
        "id": "uzeTiIlQrm6M",
        "outputId": "dbdb0c0f-bc1d-476a-b037-d1ffc0ccc4dd"
      },
      "execution_count": 5,
      "outputs": [
        {
          "output_type": "execute_result",
          "data": {
            "text/plain": [
              "numpy.ndarray"
            ]
          },
          "metadata": {},
          "execution_count": 5
        }
      ]
    },
    {
      "cell_type": "code",
      "source": [
        "a = np.array([1,2,3], dtype = float)\n",
        "print(a)"
      ],
      "metadata": {
        "colab": {
          "base_uri": "https://localhost:8080/"
        },
        "id": "jKIWaHNLrpFm",
        "outputId": "164cd053-901d-42f4-c91a-eb89135c1cdd"
      },
      "execution_count": 7,
      "outputs": [
        {
          "output_type": "stream",
          "name": "stdout",
          "text": [
            "[1. 2. 3.]\n"
          ]
        }
      ]
    },
    {
      "cell_type": "code",
      "source": [
        "a = np.array([1,2,3], dtype = str)\n",
        "print(a)"
      ],
      "metadata": {
        "colab": {
          "base_uri": "https://localhost:8080/"
        },
        "id": "B1qh1GXEsEOy",
        "outputId": "2e02040c-1499-4bee-f6c0-465278c5bb28"
      },
      "execution_count": 8,
      "outputs": [
        {
          "output_type": "stream",
          "name": "stdout",
          "text": [
            "['1' '2' '3']\n"
          ]
        }
      ]
    },
    {
      "cell_type": "code",
      "source": [
        "b = np.array([[1,2,3],[4,5,6]])\n",
        "print(b)"
      ],
      "metadata": {
        "colab": {
          "base_uri": "https://localhost:8080/"
        },
        "id": "WSaPQcRvserd",
        "outputId": "c805dcea-bb79-4b53-9fb1-e43d54355f81"
      },
      "execution_count": 10,
      "outputs": [
        {
          "output_type": "stream",
          "name": "stdout",
          "text": [
            "[[1 2 3]\n",
            " [4 5 6]]\n"
          ]
        }
      ]
    },
    {
      "cell_type": "code",
      "source": [
        "len(a)"
      ],
      "metadata": {
        "colab": {
          "base_uri": "https://localhost:8080/"
        },
        "id": "R1jxJiFltZhz",
        "outputId": "0b1cef63-b3aa-4b4b-de4d-d05de7771af1"
      },
      "execution_count": 11,
      "outputs": [
        {
          "output_type": "execute_result",
          "data": {
            "text/plain": [
              "3"
            ]
          },
          "metadata": {},
          "execution_count": 11
        }
      ]
    },
    {
      "cell_type": "code",
      "source": [
        "len(b)"
      ],
      "metadata": {
        "colab": {
          "base_uri": "https://localhost:8080/"
        },
        "id": "ilS4oFTZtvZ7",
        "outputId": "839c3e24-85ec-40fc-f2d9-f0fffde1ce81"
      },
      "execution_count": 12,
      "outputs": [
        {
          "output_type": "execute_result",
          "data": {
            "text/plain": [
              "2"
            ]
          },
          "metadata": {},
          "execution_count": 12
        }
      ]
    },
    {
      "cell_type": "code",
      "source": [
        "# Get dimeension of a numpy array :\n",
        "a.ndim"
      ],
      "metadata": {
        "colab": {
          "base_uri": "https://localhost:8080/"
        },
        "id": "V7zjFUOauJTr",
        "outputId": "2c5d0891-12d6-41a3-eeeb-a975fc3270e9"
      },
      "execution_count": 13,
      "outputs": [
        {
          "output_type": "execute_result",
          "data": {
            "text/plain": [
              "1"
            ]
          },
          "metadata": {},
          "execution_count": 13
        }
      ]
    },
    {
      "cell_type": "code",
      "source": [
        "b.ndim"
      ],
      "metadata": {
        "colab": {
          "base_uri": "https://localhost:8080/"
        },
        "id": "lxbjww4ouW3_",
        "outputId": "7e0cc868-c9ce-4c5a-c1b2-05cc0a159dd3"
      },
      "execution_count": 14,
      "outputs": [
        {
          "output_type": "execute_result",
          "data": {
            "text/plain": [
              "2"
            ]
          },
          "metadata": {},
          "execution_count": 14
        }
      ]
    },
    {
      "cell_type": "markdown",
      "source": [
        "### WHY USE NUMPY ???\n",
        "\n",
        "\n"
      ],
      "metadata": {
        "id": "nsMPIcrBukwP"
      }
    },
    {
      "cell_type": "code",
      "source": [
        "# Get a shape of a numpy array :\n",
        "a.shape"
      ],
      "metadata": {
        "colab": {
          "base_uri": "https://localhost:8080/"
        },
        "id": "sr7rNI6gu3Ej",
        "outputId": "eb362f73-3f22-4b80-b3c1-becd7775a581"
      },
      "execution_count": 16,
      "outputs": [
        {
          "output_type": "execute_result",
          "data": {
            "text/plain": [
              "(3,)"
            ]
          },
          "metadata": {},
          "execution_count": 16
        }
      ]
    },
    {
      "cell_type": "code",
      "source": [
        "b.shape"
      ],
      "metadata": {
        "colab": {
          "base_uri": "https://localhost:8080/"
        },
        "id": "VC0DaOzSvFBs",
        "outputId": "9fe834b3-8687-4b19-8bc0-b8bf3eb67f46"
      },
      "execution_count": 17,
      "outputs": [
        {
          "output_type": "execute_result",
          "data": {
            "text/plain": [
              "(2, 3)"
            ]
          },
          "metadata": {},
          "execution_count": 17
        }
      ]
    },
    {
      "cell_type": "code",
      "source": [
        "a.dtype"
      ],
      "metadata": {
        "colab": {
          "base_uri": "https://localhost:8080/"
        },
        "id": "ELYImgELvJW1",
        "outputId": "244fe464-5ee0-45f2-ef4f-acee705ef9ff"
      },
      "execution_count": 18,
      "outputs": [
        {
          "output_type": "execute_result",
          "data": {
            "text/plain": [
              "dtype('<U1')"
            ]
          },
          "metadata": {},
          "execution_count": 18
        }
      ]
    },
    {
      "cell_type": "markdown",
      "source": [
        "### ACCESING/CHANGING A SPECIFIC ELEMENTS , ROWS AND COLUMNS ETC."
      ],
      "metadata": {
        "id": "ySUD9TM7vUtl"
      }
    },
    {
      "cell_type": "code",
      "source": [
        "a = np.array([[1,2,3,4,5,6,7] , [8,9,10,11,12,13,14]])\n",
        "print(a)"
      ],
      "metadata": {
        "colab": {
          "base_uri": "https://localhost:8080/"
        },
        "id": "zCoZ015Jvbze",
        "outputId": "c7abace8-d8ff-431e-a9d0-dc690f3599b4"
      },
      "execution_count": 20,
      "outputs": [
        {
          "output_type": "stream",
          "name": "stdout",
          "text": [
            "[[ 1  2  3  4  5  6  7]\n",
            " [ 8  9 10 11 12 13 14]]\n"
          ]
        }
      ]
    },
    {
      "cell_type": "code",
      "source": [
        "a.ndim"
      ],
      "metadata": {
        "colab": {
          "base_uri": "https://localhost:8080/"
        },
        "id": "kX23IvZNvsKN",
        "outputId": "dbc8c7a4-7234-4807-a80b-674f44133aca"
      },
      "execution_count": 21,
      "outputs": [
        {
          "output_type": "execute_result",
          "data": {
            "text/plain": [
              "2"
            ]
          },
          "metadata": {},
          "execution_count": 21
        }
      ]
    },
    {
      "cell_type": "code",
      "source": [
        "#Got a specific elements [r,c]:\n",
        "a[0,3]\n",
        "# 0 is the first index  that is our 1st element nd in that element the 3rd element counting from the index 0  : 3rd one is \"4\""
      ],
      "metadata": {
        "colab": {
          "base_uri": "https://localhost:8080/"
        },
        "id": "78LhGKwnv1GR",
        "outputId": "3a0639af-3c90-4521-ca74-d899b321a6fc"
      },
      "execution_count": 22,
      "outputs": [
        {
          "output_type": "execute_result",
          "data": {
            "text/plain": [
              "np.int64(4)"
            ]
          },
          "metadata": {},
          "execution_count": 22
        }
      ]
    },
    {
      "cell_type": "code",
      "source": [
        "a[1,0]"
      ],
      "metadata": {
        "colab": {
          "base_uri": "https://localhost:8080/"
        },
        "id": "BkFxAfwawCFF",
        "outputId": "21a545b9-e8a2-4bd6-9ed3-f06ad173d2eb"
      },
      "execution_count": 23,
      "outputs": [
        {
          "output_type": "execute_result",
          "data": {
            "text/plain": [
              "np.int64(8)"
            ]
          },
          "metadata": {},
          "execution_count": 23
        }
      ]
    },
    {
      "cell_type": "code",
      "source": [
        "# Get a specific row from a numpy array\n",
        "a[0,:]\n",
        "# You have to print whole row so use \":\""
      ],
      "metadata": {
        "colab": {
          "base_uri": "https://localhost:8080/"
        },
        "id": "4pPCvuFjwwDa",
        "outputId": "e5321bc5-1fd2-4f32-ba84-b405be4adbbd"
      },
      "execution_count": 25,
      "outputs": [
        {
          "output_type": "execute_result",
          "data": {
            "text/plain": [
              "array([1, 2, 3, 4, 5, 6, 7])"
            ]
          },
          "metadata": {},
          "execution_count": 25
        }
      ]
    },
    {
      "cell_type": "code",
      "source": [
        "# GET a specific column from a numpy array\n",
        "a[:,0]"
      ],
      "metadata": {
        "colab": {
          "base_uri": "https://localhost:8080/"
        },
        "id": "4whB4soxxVgA",
        "outputId": "81447358-022e-4c60-cdf8-2d5ba2e14515"
      },
      "execution_count": 26,
      "outputs": [
        {
          "output_type": "execute_result",
          "data": {
            "text/plain": [
              "array([1, 8])"
            ]
          },
          "metadata": {},
          "execution_count": 26
        }
      ]
    },
    {
      "cell_type": "code",
      "source": [
        "a[:,2]"
      ],
      "metadata": {
        "colab": {
          "base_uri": "https://localhost:8080/"
        },
        "id": "_ALAgIyPxnLv",
        "outputId": "1f21c7e6-a14f-4f23-ae4e-11a84b64d3ae"
      },
      "execution_count": 27,
      "outputs": [
        {
          "output_type": "execute_result",
          "data": {
            "text/plain": [
              "array([ 3, 10])"
            ]
          },
          "metadata": {},
          "execution_count": 27
        }
      ]
    },
    {
      "cell_type": "code",
      "source": [
        "a[0,3] = 40\n",
        "print(a)\n",
        "# We can change the array so numpy is mutable : here we change the elements in arrays"
      ],
      "metadata": {
        "colab": {
          "base_uri": "https://localhost:8080/"
        },
        "id": "yXDMGGlVyFLd",
        "outputId": "05eae0f6-502f-49fb-a6cf-cafb4c06bfca"
      },
      "execution_count": 28,
      "outputs": [
        {
          "output_type": "stream",
          "name": "stdout",
          "text": [
            "[[ 1  2  3 40  5  6  7]\n",
            " [ 8  9 10 11 12 13 14]]\n"
          ]
        }
      ]
    },
    {
      "cell_type": "code",
      "source": [
        "# Change the 5th column in 1st row to 50\n",
        "a[0,4] = 50\n",
        "print(a)"
      ],
      "metadata": {
        "colab": {
          "base_uri": "https://localhost:8080/"
        },
        "id": "pP5eM6XYyPkF",
        "outputId": "953fba58-2442-4c22-8f81-647796389d36"
      },
      "execution_count": 29,
      "outputs": [
        {
          "output_type": "stream",
          "name": "stdout",
          "text": [
            "[[ 1  2  3 40 50  6  7]\n",
            " [ 8  9 10 11 12 13 14]]\n"
          ]
        }
      ]
    },
    {
      "cell_type": "markdown",
      "source": [
        "### ZERO/ONES METHOD IN NUMPY :"
      ],
      "metadata": {
        "id": "ns0gyx6yyvSp"
      }
    },
    {
      "cell_type": "code",
      "source": [
        "np.zeros((3,3))"
      ],
      "metadata": {
        "colab": {
          "base_uri": "https://localhost:8080/"
        },
        "id": "vgjPYFOcyyxE",
        "outputId": "527267ed-ed3e-4a77-8186-0c84043058a6"
      },
      "execution_count": 33,
      "outputs": [
        {
          "output_type": "execute_result",
          "data": {
            "text/plain": [
              "array([[0., 0., 0.],\n",
              "       [0., 0., 0.],\n",
              "       [0., 0., 0.]])"
            ]
          },
          "metadata": {},
          "execution_count": 33
        }
      ]
    },
    {
      "cell_type": "code",
      "source": [
        "np.zeros((3,3) , dtype = 'int32')"
      ],
      "metadata": {
        "colab": {
          "base_uri": "https://localhost:8080/"
        },
        "id": "njZqbH7SzBMG",
        "outputId": "3e8511a2-9c2d-49b9-b13b-3039c076742d"
      },
      "execution_count": 35,
      "outputs": [
        {
          "output_type": "execute_result",
          "data": {
            "text/plain": [
              "array([[0, 0, 0],\n",
              "       [0, 0, 0],\n",
              "       [0, 0, 0]], dtype=int32)"
            ]
          },
          "metadata": {},
          "execution_count": 35
        }
      ]
    },
    {
      "cell_type": "code",
      "source": [
        "np.ones((3,3))"
      ],
      "metadata": {
        "colab": {
          "base_uri": "https://localhost:8080/"
        },
        "id": "UnMuvt30zZwK",
        "outputId": "9d541236-0e74-44ea-f483-726bb49f9472"
      },
      "execution_count": 37,
      "outputs": [
        {
          "output_type": "execute_result",
          "data": {
            "text/plain": [
              "array([[1., 1., 1.],\n",
              "       [1., 1., 1.],\n",
              "       [1., 1., 1.]])"
            ]
          },
          "metadata": {},
          "execution_count": 37
        }
      ]
    },
    {
      "cell_type": "code",
      "source": [
        "#full : We have to create a entity of the same number and want to give that number :\n",
        "np.full((3,3),50, dtype = 'float32')"
      ],
      "metadata": {
        "colab": {
          "base_uri": "https://localhost:8080/"
        },
        "id": "Ek73wQY8zdRB",
        "outputId": "4995f0d5-0f6c-4b2c-9c05-f121acd155b2"
      },
      "execution_count": 38,
      "outputs": [
        {
          "output_type": "execute_result",
          "data": {
            "text/plain": [
              "array([[50., 50., 50.],\n",
              "       [50., 50., 50.],\n",
              "       [50., 50., 50.]], dtype=float32)"
            ]
          },
          "metadata": {},
          "execution_count": 38
        }
      ]
    },
    {
      "cell_type": "code",
      "source": [
        "vara = 20\n",
        "np.full((3,3),vara, dtype = 'float32')"
      ],
      "metadata": {
        "colab": {
          "base_uri": "https://localhost:8080/"
        },
        "id": "yNDYWsibz9Xv",
        "outputId": "62786571-e75a-4f38-a7c3-4ea8bed12df0"
      },
      "execution_count": 39,
      "outputs": [
        {
          "output_type": "execute_result",
          "data": {
            "text/plain": [
              "array([[20., 20., 20.],\n",
              "       [20., 20., 20.],\n",
              "       [20., 20., 20.]], dtype=float32)"
            ]
          },
          "metadata": {},
          "execution_count": 39
        }
      ]
    },
    {
      "cell_type": "code",
      "source": [
        "np.random.rand(4,4)\n",
        "# Gives random matrix"
      ],
      "metadata": {
        "colab": {
          "base_uri": "https://localhost:8080/"
        },
        "id": "pbxOzkbG0Gt-",
        "outputId": "c7bf8c65-ffc8-4658-8eb6-6c1d0cd2675a"
      },
      "execution_count": 40,
      "outputs": [
        {
          "output_type": "execute_result",
          "data": {
            "text/plain": [
              "array([[0.10002709, 0.20130256, 0.85985049, 0.80301848],\n",
              "       [0.90462884, 0.87408986, 0.28244705, 0.59655226],\n",
              "       [0.18795988, 0.1856416 , 0.86456041, 0.77429215],\n",
              "       [0.7943999 , 0.39477878, 0.44021362, 0.02412669]])"
            ]
          },
          "metadata": {},
          "execution_count": 40
        }
      ]
    },
    {
      "cell_type": "code",
      "source": [
        "np.random.randint(-4,1,size = (3,3))\n",
        "# If we want random integer array"
      ],
      "metadata": {
        "colab": {
          "base_uri": "https://localhost:8080/"
        },
        "id": "qwOpTSYK0SJW",
        "outputId": "060458c6-c79b-4062-c2e5-6f99d4e7f643"
      },
      "execution_count": 41,
      "outputs": [
        {
          "output_type": "execute_result",
          "data": {
            "text/plain": [
              "array([[-2, -3,  0],\n",
              "       [-1,  0, -2],\n",
              "       [-1, -2, -1]])"
            ]
          },
          "metadata": {},
          "execution_count": 41
        }
      ]
    },
    {
      "cell_type": "code",
      "source": [
        "# I want a random integer between 1 to 5\n",
        "np.random.randint(1,5,size = (3,3))"
      ],
      "metadata": {
        "colab": {
          "base_uri": "https://localhost:8080/"
        },
        "id": "Dhfk6ERa0e1-",
        "outputId": "9a174127-44d7-480c-f55a-538c97043f01"
      },
      "execution_count": 42,
      "outputs": [
        {
          "output_type": "execute_result",
          "data": {
            "text/plain": [
              "array([[2, 4, 4],\n",
              "       [1, 1, 2],\n",
              "       [1, 4, 1]])"
            ]
          },
          "metadata": {},
          "execution_count": 42
        }
      ]
    },
    {
      "cell_type": "code",
      "source": [
        "np.identity(5)"
      ],
      "metadata": {
        "colab": {
          "base_uri": "https://localhost:8080/"
        },
        "id": "uvD-G62201RG",
        "outputId": "5c2a4e61-c84a-4257-8d7b-7f02ca1573b7"
      },
      "execution_count": 43,
      "outputs": [
        {
          "output_type": "execute_result",
          "data": {
            "text/plain": [
              "array([[1., 0., 0., 0., 0.],\n",
              "       [0., 1., 0., 0., 0.],\n",
              "       [0., 0., 1., 0., 0.],\n",
              "       [0., 0., 0., 1., 0.],\n",
              "       [0., 0., 0., 0., 1.]])"
            ]
          },
          "metadata": {},
          "execution_count": 43
        }
      ]
    },
    {
      "cell_type": "code",
      "source": [
        "# IDNETITY MATRIX IS :\n",
        "# [ 1 0\n",
        " # 0 1 ]"
      ],
      "metadata": {
        "id": "mbLWH57p037r"
      },
      "execution_count": null,
      "outputs": []
    },
    {
      "cell_type": "markdown",
      "source": [
        "### PRACTISE QUESTIONS :"
      ],
      "metadata": {
        "id": "SwFiunYU1H6a"
      }
    },
    {
      "cell_type": "markdown",
      "source": [
        "EXTRACT all the first 3 rows of the last 5 columns in a given numpy 2D array 'a' ?"
      ],
      "metadata": {
        "id": "xDMopaLZ1RUA"
      }
    },
    {
      "cell_type": "code",
      "source": [
        "a = np.array ([[3,4,5,6,0,0],\n",
        "[20,30,40,50,60,0],\n",
        "[12,12,12,12,12,0],\n",
        "[11,21,31,41,51,61],\n",
        "               [12,13,15,1,33,3]])\n",
        "# Given array"
      ],
      "metadata": {
        "id": "p5-i6w7h1bHh"
      },
      "execution_count": 48,
      "outputs": []
    },
    {
      "cell_type": "code",
      "source": [
        "a"
      ],
      "metadata": {
        "colab": {
          "base_uri": "https://localhost:8080/"
        },
        "id": "hFZbtF1d1nyz",
        "outputId": "213341b2-b75c-4f3a-b660-c83ce6fb6b01"
      },
      "execution_count": 49,
      "outputs": [
        {
          "output_type": "execute_result",
          "data": {
            "text/plain": [
              "array([[ 3,  4,  5,  6,  0,  0],\n",
              "       [20, 30, 40, 50, 60,  0],\n",
              "       [12, 12, 12, 12, 12,  0],\n",
              "       [11, 21, 31, 41, 51, 61],\n",
              "       [12, 13, 15,  1, 33,  3]])"
            ]
          },
          "metadata": {},
          "execution_count": 49
        }
      ]
    },
    {
      "cell_type": "code",
      "source": [
        "#OUTPUT SHOULD BE :\n",
        "4,5,6,0,0\n",
        "30, 40, 50, 60,  0\n",
        "12, 12, 12, 12,  0\n",
        "\n",
        "\n",
        "\n"
      ],
      "metadata": {
        "id": "JgMoPteU2gIP"
      },
      "execution_count": null,
      "outputs": []
    },
    {
      "cell_type": "code",
      "source": [
        "a [0:3 , -5 :]\n",
        "# So after comma is columns so we use -5 that is from backside as we need last 5 columns\n",
        "# and for first 3 rows we use 0 : 3"
      ],
      "metadata": {
        "colab": {
          "base_uri": "https://localhost:8080/"
        },
        "id": "2LzMU8JP2Tvo",
        "outputId": "c7b1753c-f30a-4980-ba1c-9b6b225f6a2c"
      },
      "execution_count": 50,
      "outputs": [
        {
          "output_type": "execute_result",
          "data": {
            "text/plain": [
              "array([[ 4,  5,  6,  0,  0],\n",
              "       [30, 40, 50, 60,  0],\n",
              "       [12, 12, 12, 12,  0]])"
            ]
          },
          "metadata": {},
          "execution_count": 50
        }
      ]
    },
    {
      "cell_type": "code",
      "source": [
        "# For printing first 3 rows :\n",
        "a[0,3]"
      ],
      "metadata": {
        "colab": {
          "base_uri": "https://localhost:8080/"
        },
        "id": "PdkpzQ_L384g",
        "outputId": "9a040bb2-be87-45df-fb93-8d3afe382846"
      },
      "execution_count": 51,
      "outputs": [
        {
          "output_type": "execute_result",
          "data": {
            "text/plain": [
              "np.int64(6)"
            ]
          },
          "metadata": {},
          "execution_count": 51
        }
      ]
    },
    {
      "cell_type": "markdown",
      "source": [
        "Q.GIVEN A +VE NUMBER 'n' greater than 2 , create a numpy array of size(nxn) with all zeroes and one such that the ones make a shape of \"+\""
      ],
      "metadata": {
        "id": "SkAD_rGL4CZK"
      }
    },
    {
      "cell_type": "code",
      "source": [
        "LIKE :\n",
        "INPUT 1 :\n",
        "3\n",
        "OUTPUT 1 :\n",
        "[0 1 0 ]\n",
        "[1 1 1 ]\n",
        "[0 1 0 ]"
      ],
      "metadata": {
        "id": "eN9eRjfd4bFN"
      },
      "execution_count": null,
      "outputs": []
    },
    {
      "cell_type": "code",
      "source": [
        "import numpy as np\n",
        "\n",
        "def plus_pattern(n):\n",
        "    if n <= 2:\n",
        "        raise ValueError(\"n must be greater than 2\")\n",
        "\n",
        "    arr = np.zeros((n, n), dtype=int)\n",
        "    mid = n // 2\n",
        "\n",
        "    arr[mid, :] = 1      # horizontal line\n",
        "    arr[:, mid] = 1      # vertical line\n",
        "\n",
        "    return arr\n",
        "\n",
        "# Example\n",
        "n = 5\n",
        "print(plus_pattern(n))\n"
      ],
      "metadata": {
        "colab": {
          "base_uri": "https://localhost:8080/"
        },
        "id": "dpod6wlt40fk",
        "outputId": "3944a4d0-8091-4713-bb78-618ee030f62c"
      },
      "execution_count": 52,
      "outputs": [
        {
          "output_type": "stream",
          "name": "stdout",
          "text": [
            "[[0 0 1 0 0]\n",
            " [0 0 1 0 0]\n",
            " [1 1 1 1 1]\n",
            " [0 0 1 0 0]\n",
            " [0 0 1 0 0]]\n"
          ]
        }
      ]
    }
  ]
}